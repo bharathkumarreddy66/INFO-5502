{
 "cells": [
  {
   "cell_type": "markdown",
   "metadata": {
    "colab_type": "text",
    "id": "Ryk8D1Q4Wsrp"
   },
   "source": [
    "# **The second Lab-assignment (07/19/2022 11:59'AM' - 07/22/2022 11:59PM, 50 points in total)**"
   ]
  },
  {
   "cell_type": "markdown",
   "metadata": {
    "colab_type": "text",
    "id": "90_NR8c5XGWc"
   },
   "source": [
    "# Question 1\n",
    "\n",
    "(5 points). Write a Python program to generate 12 random numbers between 1 and 100. Sort the list of numbers in ascending order and print it out. Sort the list of numbers in descending order and print it out. Calculate the average for the group and print it out."
   ]
  },
  {
   "cell_type": "code",
   "execution_count": 25,
   "metadata": {
    "colab": {},
    "colab_type": "code",
    "id": "5QX6bJjGWXY9"
   },
   "outputs": [
    {
     "name": "stdout",
     "output_type": "stream",
     "text": [
      "The Random Numbers are  [76, 39, 15, 57, 87, 87, 43, 26, 2, 39, 63, 71]\n",
      "Random Numbers in ascending order  [2, 15, 26, 39, 39, 43, 57, 63, 71, 76, 87, 87]\n",
      "Random Numbers in decending order  [87, 87, 76, 71, 63, 57, 43, 39, 39, 26, 15, 2]\n",
      "The average is  50.42\n"
     ]
    }
   ],
   "source": [
    "from random import randint\n",
    "from statistics import mean\n",
    "ran = []\n",
    "for i in range(12):\n",
    "    \n",
    "    ran.append(randint(1,100))\n",
    "print(\"The Random Numbers are \",ran)\n",
    "\n",
    "ran.sort()\n",
    "print(\"Random Numbers in ascending order \",ran)\n",
    "\n",
    "ran.sort(reverse =True)\n",
    "print(\"Random Numbers in decending order \",ran)\n",
    "\n",
    "print('The average is ',round(mean(ran),2))"
   ]
  },
  {
   "cell_type": "markdown",
   "metadata": {
    "colab_type": "text",
    "id": "CmFoI4jDS9nx"
   },
   "source": [
    "# Question 2 \n",
    "\n",
    "(5 points). The formula that describes the volume V of a sphere with radius r is the following:\n",
    "\n",
    "$ V=\\frac{4}{3}\\ast\\ \\pi\\ast\\ r^3 $\n",
    "\n",
    "Write a program to calculate the value of V when r is in the range of 1–10. Output the result in the following format:\n",
    "\n",
    "\tr\tV\n",
    "\t1\t…\n",
    "\t2\t…\n",
    "\t3\t…\n"
   ]
  },
  {
   "cell_type": "code",
   "execution_count": 43,
   "metadata": {
    "colab": {},
    "colab_type": "code",
    "id": "pEyqeioAT95b"
   },
   "outputs": [
    {
     "name": "stdout",
     "output_type": "stream",
     "text": [
      " r         V \n",
      "\n",
      " 1        4.19 \n",
      " 2        33.51 \n",
      " 3        113.1 \n",
      " 4        268.08 \n",
      " 5        523.6 \n",
      " 6        904.78 \n",
      " 7        1436.76 \n",
      " 8        2144.66 \n",
      " 9        3053.63 \n",
      " 10        4188.79 \n"
     ]
    }
   ],
   "source": [
    "import math\n",
    "#r = int(input(\"Enter 'r(1-10) value :'\"))\n",
    "print(\" r         V \\n\" )\n",
    "for i in range(1,11):\n",
    "    \n",
    "    V = 4/3 * math.pi * i**3\n",
    "    print(\" {}        {} \".format(i,round(V,2)))\n"
   ]
  },
  {
   "cell_type": "markdown",
   "metadata": {
    "colab_type": "text",
    "id": "z3tBE7E-Xn5X"
   },
   "source": [
    "# Question 3\n",
    "\n",
    "(40 points). In the field of Data Science, data is often formatted as a comma-delimited (CSV) file, where each line in a file corresponds to a field's value. Refer to Chapter 9 (p. 106) for more information on comma-delimited files. To answer this question, you will need to download the file [lab_assignment_02_denton_housing.csv](https://github.com/suthapalliuday/INFO5502-Summer2022/blob/main/datasets/lab_assignment_02_denton_housing.csv) included with this assignment. The file [lab_assignment_02_denton_housing.csv](https://github.com/suthapalliuday/INFO5502-Summer2022/blob/main/datasets/lab_assignment_02_denton_housing.csv) contains statistics about housing in the city of Denton from 2008 to 2014. Write a program to implement the following questions.\n",
    "\n",
    "(1) (10 pts) Calculate the difference in the number of Occupied Housing Units from year to year and print it. The difference must be calculated for the consecutive years such as 2008-2009, 2009-2010 etc. Finally, print the values in the ascending order.\n",
    "\n",
    "(2) (10 pts) For all the years, calculate the percentage of housing units which are vacant an occupied. Print the results in the following format:\n",
    "\n",
    "Year Vacant Housing Units Occupied Housing Units\n",
    "\n",
    "    2008  30%   70%                          \n",
    "\t2009 ----- -----\n",
    "\t2010 ----- -----\n",
    "    2011 ----- -----\n",
    "\t2012 ----- -----\n",
    "    2013 ----- -----\n",
    "\t2014 ----- -----\n",
    "  \n",
    "  \n",
    "\n",
    "(3) (10 pts) Calculate and print the valued and years in which the highest number of housing units were vacant and occupied. Print the results in the following format:  \n",
    "\n",
    "                              Year\tValue\n",
    "\tVacant Housing Units\t  -----   -----\n",
    "\tOccupied Housing Units\t-----   -----\n",
    "\n",
    "(4) (10 pts) Calculate the harmonic mean of the total housing units and print it out. You can find the information about harmonic mean here: https://ncalculators.com/statistics/harmonic-mean-calculator.htm"
   ]
  },
  {
   "cell_type": "code",
   "execution_count": 27,
   "metadata": {
    "colab": {},
    "colab_type": "code",
    "id": "lqGYuHBhcsRH"
   },
   "outputs": [],
   "source": [
    "#1\n",
    "import pandas as pd\n",
    "from scipy import stats\n",
    "df= pd.read_csv(\"lab_assignment_02_denton_housing.csv\") # Data Import\n"
   ]
  },
  {
   "cell_type": "code",
   "execution_count": 41,
   "metadata": {},
   "outputs": [
    {
     "data": {
      "text/html": [
       "<div>\n",
       "<style scoped>\n",
       "    .dataframe tbody tr th:only-of-type {\n",
       "        vertical-align: middle;\n",
       "    }\n",
       "\n",
       "    .dataframe tbody tr th {\n",
       "        vertical-align: top;\n",
       "    }\n",
       "\n",
       "    .dataframe thead th {\n",
       "        text-align: right;\n",
       "    }\n",
       "</style>\n",
       "<table border=\"1\" class=\"dataframe\">\n",
       "  <thead>\n",
       "    <tr style=\"text-align: right;\">\n",
       "      <th></th>\n",
       "      <th>year</th>\n",
       "      <th>title_field</th>\n",
       "      <th>value</th>\n",
       "      <th>years</th>\n",
       "      <th>Difference</th>\n",
       "    </tr>\n",
       "  </thead>\n",
       "  <tbody>\n",
       "    <tr>\n",
       "      <th>20</th>\n",
       "      <td>2008</td>\n",
       "      <td>Occupied Housing Units</td>\n",
       "      <td>36711</td>\n",
       "      <td>2008-2009</td>\n",
       "      <td>795</td>\n",
       "    </tr>\n",
       "    <tr>\n",
       "      <th>17</th>\n",
       "      <td>2009</td>\n",
       "      <td>Occupied Housing Units</td>\n",
       "      <td>35916</td>\n",
       "      <td>2009-2010</td>\n",
       "      <td>-5091</td>\n",
       "    </tr>\n",
       "    <tr>\n",
       "      <th>14</th>\n",
       "      <td>2010</td>\n",
       "      <td>Occupied Housing Units</td>\n",
       "      <td>41007</td>\n",
       "      <td>2010-2011</td>\n",
       "      <td>303</td>\n",
       "    </tr>\n",
       "    <tr>\n",
       "      <th>11</th>\n",
       "      <td>2011</td>\n",
       "      <td>Occupied Housing Units</td>\n",
       "      <td>40704</td>\n",
       "      <td>2011-2012</td>\n",
       "      <td>-1404</td>\n",
       "    </tr>\n",
       "    <tr>\n",
       "      <th>8</th>\n",
       "      <td>2012</td>\n",
       "      <td>Occupied Housing Units</td>\n",
       "      <td>42108</td>\n",
       "      <td>2012-2013</td>\n",
       "      <td>-1565</td>\n",
       "    </tr>\n",
       "    <tr>\n",
       "      <th>5</th>\n",
       "      <td>2013</td>\n",
       "      <td>Occupied Housing Units</td>\n",
       "      <td>43673</td>\n",
       "      <td>2013-2014</td>\n",
       "      <td>-2622</td>\n",
       "    </tr>\n",
       "    <tr>\n",
       "      <th>2</th>\n",
       "      <td>2014</td>\n",
       "      <td>Occupied Housing Units</td>\n",
       "      <td>46295</td>\n",
       "      <td>2014--999</td>\n",
       "      <td>46295</td>\n",
       "    </tr>\n",
       "  </tbody>\n",
       "</table>\n",
       "</div>"
      ],
      "text/plain": [
       "    year             title_field  value      years  Difference\n",
       "20  2008  Occupied Housing Units  36711  2008-2009         795\n",
       "17  2009  Occupied Housing Units  35916  2009-2010       -5091\n",
       "14  2010  Occupied Housing Units  41007  2010-2011         303\n",
       "11  2011  Occupied Housing Units  40704  2011-2012       -1404\n",
       "8   2012  Occupied Housing Units  42108  2012-2013       -1565\n",
       "5   2013  Occupied Housing Units  43673  2013-2014       -2622\n",
       "2   2014  Occupied Housing Units  46295  2014--999       46295"
      ]
     },
     "execution_count": 41,
     "metadata": {},
     "output_type": "execute_result"
    }
   ],
   "source": [
    "occu = df.loc[df['title_field'] == 'Occupied Housing Units'].sort_values('year', ascending=True)\n",
    "occu = occu.assign(years=occu['year'].map(str)+ '-' + occu['year'].shift(-1).fillna(-999).astype(int).map(str), Difference = occu['value'] - occu['value'].shift(-1).fillna(0).astype(int))\n",
    "occu"
   ]
  },
  {
   "cell_type": "code",
   "execution_count": 40,
   "metadata": {},
   "outputs": [
    {
     "name": "stdout",
     "output_type": "stream",
     "text": [
      "    years  Difference\n",
      "2008-2009         795\n",
      "2009-2010       -5091\n",
      "2010-2011         303\n",
      "2011-2012       -1404\n",
      "2012-2013       -1565\n",
      "2013-2014       -2622\n"
     ]
    }
   ],
   "source": [
    "occu.drop(occu[occu['years'].str.contains('--')].index, inplace=True)\n",
    "print(occu[['years','Difference']].to_string(index=False))"
   ]
  },
  {
   "cell_type": "code",
   "execution_count": 39,
   "metadata": {},
   "outputs": [],
   "source": [
    "#2\n",
    "import pandas as pd #Libraries\n",
    "import statistics\n",
    "vac = df[df['title_field']=='Vacant Housing Units']\n",
    "\n",
    "occ = df[df['title_field']=='Occupied Housing Units']\n",
    "\n",
    "tot = df[df['title_field']=='Total Housing Units']\n"
   ]
  },
  {
   "cell_type": "code",
   "execution_count": 36,
   "metadata": {},
   "outputs": [
    {
     "data": {
      "text/html": [
       "<div>\n",
       "<style scoped>\n",
       "    .dataframe tbody tr th:only-of-type {\n",
       "        vertical-align: middle;\n",
       "    }\n",
       "\n",
       "    .dataframe tbody tr th {\n",
       "        vertical-align: top;\n",
       "    }\n",
       "\n",
       "    .dataframe thead th {\n",
       "        text-align: right;\n",
       "    }\n",
       "</style>\n",
       "<table border=\"1\" class=\"dataframe\">\n",
       "  <thead>\n",
       "    <tr style=\"text-align: right;\">\n",
       "      <th></th>\n",
       "      <th>Year</th>\n",
       "      <th>Vacant Housing Unit</th>\n",
       "      <th>Occupied Housing Unit</th>\n",
       "    </tr>\n",
       "  </thead>\n",
       "  <tbody>\n",
       "    <tr>\n",
       "      <th>1</th>\n",
       "      <td>2014</td>\n",
       "      <td>5.73%</td>\n",
       "      <td>94.27%</td>\n",
       "    </tr>\n",
       "    <tr>\n",
       "      <th>4</th>\n",
       "      <td>2013</td>\n",
       "      <td>8.8%</td>\n",
       "      <td>91.2%</td>\n",
       "    </tr>\n",
       "    <tr>\n",
       "      <th>7</th>\n",
       "      <td>2012</td>\n",
       "      <td>6.68%</td>\n",
       "      <td>93.32%</td>\n",
       "    </tr>\n",
       "    <tr>\n",
       "      <th>10</th>\n",
       "      <td>2011</td>\n",
       "      <td>9.38%</td>\n",
       "      <td>90.62%</td>\n",
       "    </tr>\n",
       "    <tr>\n",
       "      <th>13</th>\n",
       "      <td>2010</td>\n",
       "      <td>8.14%</td>\n",
       "      <td>91.86%</td>\n",
       "    </tr>\n",
       "    <tr>\n",
       "      <th>16</th>\n",
       "      <td>2009</td>\n",
       "      <td>9.07%</td>\n",
       "      <td>90.93%</td>\n",
       "    </tr>\n",
       "    <tr>\n",
       "      <th>19</th>\n",
       "      <td>2008</td>\n",
       "      <td>10.88%</td>\n",
       "      <td>89.12%</td>\n",
       "    </tr>\n",
       "  </tbody>\n",
       "</table>\n",
       "</div>"
      ],
      "text/plain": [
       "    Year Vacant Housing Unit Occupied Housing Unit\n",
       "1   2014               5.73%                94.27%\n",
       "4   2013                8.8%                 91.2%\n",
       "7   2012               6.68%                93.32%\n",
       "10  2011               9.38%                90.62%\n",
       "13  2010               8.14%                91.86%\n",
       "16  2009               9.07%                90.93%\n",
       "19  2008              10.88%                89.12%"
      ]
     },
     "execution_count": 36,
     "metadata": {},
     "output_type": "execute_result"
    }
   ],
   "source": [
    "Final = pd.DataFrame(vac['value'])\n",
    "Final['Vacant'] = Final['value']\n",
    "Final['Occupied']=list(occ['value'])\n",
    "Final['Total']=list(tot['value'])\n",
    "Final['Year']=list(tot['year'])\n",
    "Final['Occupied Housing Unit'] =(round( (Final['Occupied']/Final['Total'])*100,2)).astype(str) +\"%\"\n",
    "Final['Vacant Housing Unit'] =(round( (Final['Vacant']/Final['Total'])*100,2)).astype(str) +\"%\"\n",
    "Final[['Year','Vacant Housing Unit','Occupied Housing Unit']]\n"
   ]
  },
  {
   "cell_type": "code",
   "execution_count": 37,
   "metadata": {},
   "outputs": [
    {
     "name": "stdout",
     "output_type": "stream",
     "text": [
      "                        Year  Value\n",
      "  Vacant Housing Units  2008   4483\n",
      "Occupied Housing Units  2014  46295\n"
     ]
    }
   ],
   "source": [
    "#3\n",
    "Vacant = df[df['title_field'] == 'Vacant Housing Units']\n",
    "Vacant=Vacant.sort_values(by='value', ascending=False)[:1]\n",
    "\n",
    "Occupied = df[df['title_field'] == 'Occupied Housing Units']\n",
    "Occupied=Occupied.sort_values(by='value',ascending=False)[:1]\n",
    "Total = pd.concat([Vacant, Occupied])\n",
    "Total = Total[['title_field','year','value']]\n",
    "Total.rename(columns={'title_field': '', 'year':'Year','value':'Value'}, inplace = True)\n",
    "print(Total.to_string(index=False))"
   ]
  },
  {
   "cell_type": "code",
   "execution_count": 38,
   "metadata": {},
   "outputs": [
    {
     "name": "stdout",
     "output_type": "stream",
     "text": [
      "The Harmonic mean for Total unites is  [40630.88619939]\n"
     ]
    }
   ],
   "source": [
    "#4\n",
    "print('The Harmonic mean for Total unites is ',stats.hmean(Final.iloc[:,2:3],axis=0))# HArmonic Mean"
   ]
  }
 ],
 "metadata": {
  "colab": {
   "authorship_tag": "ABX9TyOAjsNCkNulTpzgRQbHdy3f",
   "collapsed_sections": [],
   "include_colab_link": true,
   "name": "INFO5731_Assignment_One.ipynb",
   "provenance": []
  },
  "kernelspec": {
   "display_name": "Python 3 (ipykernel)",
   "language": "python",
   "name": "python3"
  },
  "language_info": {
   "codemirror_mode": {
    "name": "ipython",
    "version": 3
   },
   "file_extension": ".py",
   "mimetype": "text/x-python",
   "name": "python",
   "nbconvert_exporter": "python",
   "pygments_lexer": "ipython3",
   "version": "3.9.7"
  }
 },
 "nbformat": 4,
 "nbformat_minor": 1
}
